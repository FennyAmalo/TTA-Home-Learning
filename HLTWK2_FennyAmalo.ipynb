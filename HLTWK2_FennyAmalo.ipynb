{
 "cells": [
  {
   "cell_type": "code",
   "execution_count": 14,
   "metadata": {},
   "outputs": [
    {
     "name": "stdout",
     "output_type": "stream",
     "text": [
      "6 * 3 = 18\n"
     ]
    }
   ],
   "source": [
    "#Task 5\n",
    "#this program asks for two numbers from a user and offers a choice of operator\n",
    "\n",
    "num1 = int(input(\"Enter the first number:\"))\n",
    "num2 = int(input(\"Enter the second number:\"))\n",
    "operator = input(\"Pick a mathematical operator (+, -, *, /, or **): \")\n",
    "\n",
    "if operator == \"+\":\n",
    "    print(num1, \"+\", num2, \"=\", num1 + num2)\n",
    "elif operator == \"-\":\n",
    "    print(num1, \"-\", num2, \"=\", num1 - num2)\n",
    "elif operator == \"*\":\n",
    "    print(num1, \"*\", num2, \"=\", num1 * num2)\n",
    "elif operator == \"/\":\n",
    "    print(num1, \"/\", num2, \"=\", num1 / num2)\n",
    "elif operator == \"**\":\n",
    "    print(num1, \"**\", num2, \"=\", num1 ** num2)\n",
    "else:\n",
    "    print(\"You did not select an appropriate operator.\")\n",
    "\n",
    "\n",
    "\n",
    "\n"
   ]
  },
  {
   "cell_type": "code",
   "execution_count": 19,
   "metadata": {},
   "outputs": [
    {
     "name": "stdout",
     "output_type": "stream",
     "text": [
      "The bike is worth £ 2000 in year 2021\n",
      "The bike is worth £ 1800.0 in year 2022\n",
      "The bike is worth £ 1620.0 in year 2023\n",
      "The bike is worth £ 1458.0 in year 2024\n",
      "The bike is worth £ 1312.2 in year 2025\n",
      "The bike is worth £ 1180.98 in year 2026\n",
      "The bike is worth £ 1062.882 in year 2027\n"
     ]
    }
   ],
   "source": [
    "#Task 4\n",
    "#this program calculates the value of a £2000 motorbike every following year until it falls below £1000, using the while loop function\n",
    "\n",
    "mobike = 2000\n",
    "year = 2021\n",
    "\n",
    "while mobike >= 1000 :\n",
    "    print(\"The bike is worth £\", mobike, \"in year\", year)\n",
    "    mobike=mobike-(mobike*.10)\n",
    "    year += 1\n",
    "\n",
    "\n"
   ]
  },
  {
   "cell_type": "code",
   "execution_count": 8,
   "metadata": {},
   "outputs": [
    {
     "name": "stdout",
     "output_type": "stream",
     "text": [
      "Your favourite starter is a which goes well with the b and the c , paired with the d\n"
     ]
    }
   ],
   "source": [
    "#Task 3\n",
    "#this program allows user to enter their favourite starter, main course, dessert and drink.\n",
    "\n",
    "starter = str(input(\"What is your favourite starter?\"))\n",
    "main = str(input(\"What is your favourite main course?\"))\n",
    "dessert = str(input(\"What is your favourite dessert?\"))\n",
    "drink = str(input(\"What is your favourite drink?\"))\n",
    "\n",
    "print(\"Your favourite starter is\", starter, \"which goes well with the\", main, \"and the\", dessert, \", paired with the\", drink)"
   ]
  },
  {
   "cell_type": "code",
   "execution_count": 5,
   "metadata": {},
   "outputs": [
    {
     "name": "stdout",
     "output_type": "stream",
     "text": [
      "Why do we tell actors to break a leg? Because every play has a cast.\n"
     ]
    }
   ],
   "source": [
    "#Task 2\n",
    "#this program asks a user for their favourite number between 1 and 100 and then tells them a joke based on the number\n",
    "\n",
    "guess = int(input(\"Please pick a number between 1 and 100.\"))\n",
    "\n",
    "if guess >= 0 and guess <= 20:\n",
    "    print(\"What's the best thing about Switzerland? I don't know, but the flag is a big plus.\")\n",
    "elif guess >=21 and guess <= 40:\n",
    "    print(\"I invented a new word! Plagiarism!\")\n",
    "elif guess >= 41 and guess <= 60:\n",
    "    print(\"Why do we tell actors to break a leg? Because every play has a cast.\")\n",
    "elif guess >= 61 and guess <= 80:\n",
    "    print(\"Did you hear about the claustrophobic astronout? He just needed a little space.\")\n",
    "else:\n",
    "    print(\"Where are average things manufactured? The satisfactory.\")\n",
    "\n",
    "\n"
   ]
  },
  {
   "cell_type": "code",
   "execution_count": 1,
   "metadata": {},
   "outputs": [
    {
     "name": "stdout",
     "output_type": "stream",
     "text": [
      "My name is fen I am thinking of a number between 1 and 10.\n",
      "Try again.\n"
     ]
    }
   ],
   "source": [
    "#Task 1\n",
    "#this program takes inputs of user's name and number, then guess the number\n",
    "\n",
    "import random\n",
    "name = str(input(\"What is your name?\" ))\n",
    "num = random.randint(1, 10)\n",
    "print(\"My name is\", name, \"I am thinking of a number between 1 and 10.\")\n",
    "guess = int(input(\"Guess the number!\" ))\n",
    "\n",
    "if guess == num:\n",
    "    print(\"Good job\", name, \"You have guessed correctly!\")\n",
    "else:\n",
    "    print(\"Try again.\")"
   ]
  }
 ],
 "metadata": {
  "interpreter": {
   "hash": "5219c58fabb978ac2d87fce4f0feb3419f08f46dcb52c6c3f448b53361455391"
  },
  "kernelspec": {
   "display_name": "Python 3.10.0 64-bit",
   "language": "python",
   "name": "python3"
  },
  "language_info": {
   "codemirror_mode": {
    "name": "ipython",
    "version": 3
   },
   "file_extension": ".py",
   "mimetype": "text/x-python",
   "name": "python",
   "nbconvert_exporter": "python",
   "pygments_lexer": "ipython3",
   "version": "3.10.0"
  },
  "orig_nbformat": 4
 },
 "nbformat": 4,
 "nbformat_minor": 2
}
