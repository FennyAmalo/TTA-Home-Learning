{
 "cells": [
  {
   "cell_type": "code",
   "execution_count": 48,
   "metadata": {},
   "outputs": [
    {
     "name": "stdout",
     "output_type": "stream",
     "text": [
      "--------------HOTEL RATES PER NIGHT ----------------\n",
      "\n",
      "A. Hotel Del Luna:     £30\n",
      "B. Hotel Gonza:        £40\n",
      "C. Hotel Orange:       £21\n",
      "D. Hotel Pyramid:      £45\n",
      "E. Hotel Beachfront:   £90\n",
      "Sorry! We don't have a room that meets your budget at the moment.\n",
      "The total price for your room is: 0\n"
     ]
    }
   ],
   "source": [
    "#Task 1\n",
    "#This program asks users their hotel choice from the list of hotels\n",
    "\n",
    "# display the list of hotels with their prices\n",
    "print(\"--------------HOTEL RATES PER NIGHT ----------------\")\n",
    "print(\"\")\n",
    "print(\"A. Hotel Del Luna:     £30\")\n",
    "print(\"B. Hotel Gonza:        £40\")\n",
    "print(\"C. Hotel Orange:       £21\")\n",
    "print(\"D. Hotel Pyramid:      £45\")\n",
    "print(\"E. Hotel Beachfront:   £90\")\n",
    "\n",
    "# ask for input and process based on choice\n",
    "hotel = str(input(\"Please enter your choice of hotel by typing the corresponding alphabet (A, B, C, D, or E): \"))\n",
    "night = float(input(\"For how many nights would you like to book? \"))\n",
    "room_rate = 0\n",
    "if hotel == \"A\":\n",
    "    room_rate = 30 * night\n",
    "elif hotel == \"B\":\n",
    "    room_rate = 40 * night\n",
    "elif hotel == \"C\":\n",
    "    room_rate = 21 * night\n",
    "elif hotel == \"D\":\n",
    "    room_rate = 45 * night\n",
    "elif hotel == \"E\":\n",
    "    room_rate = 90 * night \n",
    "else:\n",
    "    print(\"Sorry! We can't recognise the hotel. Please enter your choice by typing the corresponding alphabet.\")\n",
    "\n",
    "# display the result and end program\n",
    "print(\"The total price for your room is:\", room_rate)\n",
    "\n"
   ]
  },
  {
   "cell_type": "code",
   "execution_count": 1,
   "metadata": {},
   "outputs": [
    {
     "name": "stdout",
     "output_type": "stream",
     "text": [
      "The sum is 10\n"
     ]
    }
   ],
   "source": [
    "# this is a test code to practice functions and understand the principle\n",
    "# NOT A PART OF THE HOME-LEARNING TASKS\n",
    "\n",
    "def add_numbers(n1, n2):\n",
    "    result = n1 + n2\n",
    "    print(\"The sum is\", result)\n",
    "\n",
    "num1 = 4 # the value of num1 will be passed into n1 in the function\n",
    "num2 = 6 # the value of num2 will be passed into n2 in the function\n",
    "add_numbers(num1, num2)\n",
    "\n"
   ]
  },
  {
   "cell_type": "code",
   "execution_count": 34,
   "metadata": {},
   "outputs": [
    {
     "name": "stdout",
     "output_type": "stream",
     "text": [
      "Depreciation values of a £2000 motorbike from year 2021 onwards:\n",
      "~~~~~~~~~~~~~~~~~~~~~~~~~~~~~~~~~~~~~~~~~~~~~~~~~~~~~~~~~~~~~~~~~\n",
      "In 2021 the motorbike is worth £2000.\n",
      "In 2022 the motorbike is worth £1800.0.\n",
      "In 2023 the motorbike is worth £1620.0.\n",
      "In 2024 the motorbike is worth £1458.0.\n",
      "In 2025 the motorbike is worth £1312.2.\n",
      "In 2026 the motorbike is worth £1180.98.\n",
      "In 2027 the motorbike is worth £1062.882.\n"
     ]
    }
   ],
   "source": [
    "motorbike_value = int(2000) #if I don't declare this as int, it will assume it's a float\n",
    "year = 2021\n",
    "\n",
    "def print_depreciation_values(motorbike_value, year):\n",
    "    print(\"Depreciation values of a £2000 motorbike from year 2021 onwards:\")\n",
    "    print(\"~~~~~~~~~~~~~~~~~~~~~~~~~~~~~~~~~~~~~~~~~~~~~~~~~~~~~~~~~~~~~~~~~\")\n",
    "    while motorbike_value >= 1000 :\n",
    "        print(\"In \" + str(year) + \" the motorbike is worth £\" + str(motorbike_value) + \".\")\n",
    "        motorbike_value=motorbike_value-(motorbike_value*.10)\n",
    "        year += 1\n",
    "    \n",
    "print_depreciation_values(motorbike_value, year)\n",
    "\n"
   ]
  },
  {
   "cell_type": "code",
   "execution_count": 49,
   "metadata": {},
   "outputs": [
    {
     "name": "stdout",
     "output_type": "stream",
     "text": [
      "~~~~~~~~~~~~~~~~~ BASIC CALCULATOR ~~~~~~~~~~~~~~~~~~~\n",
      "1 - 2 = -1\n"
     ]
    }
   ],
   "source": [
    "#Task 3\n",
    "# this program calculates numbers input by users, using a procedure\n",
    "\n",
    "num1 = int(input(\"Enter the first number:\"))\n",
    "num2 = int(input(\"Enter the second number:\"))\n",
    "operator = input(\"Pick a mathematical operator (+, -, *, /, or **): \")\n",
    "\n",
    "def calculation(num1, num2):\n",
    "    print(\"~~~~~~~~~~~~~~~~~ BASIC CALCULATOR ~~~~~~~~~~~~~~~~~~~\")\n",
    "    if operator == \"+\":\n",
    "        print(num1, \"+\", num2, \"=\", num1 + num2)\n",
    "    elif operator == \"-\":\n",
    "        print(num1, \"-\", num2, \"=\", num1 - num2)\n",
    "    elif operator == \"*\":\n",
    "        print(num1, \"*\", num2, \"=\", num1 * num2)\n",
    "    elif operator == \"/\":\n",
    "        print(num1, \"/\", num2, \"=\", num1 / num2)\n",
    "    elif operator == \"**\":\n",
    "        print(num1, \"**\", num2, \"=\", num1 ** num2)\n",
    "    else:\n",
    "        print(\"You did not select an appropriate operator.\")\n",
    "\n",
    "calculation(num1, num2)\n",
    "\n"
   ]
  }
 ],
 "metadata": {
  "interpreter": {
   "hash": "5219c58fabb978ac2d87fce4f0feb3419f08f46dcb52c6c3f448b53361455391"
  },
  "kernelspec": {
   "display_name": "Python 3.10.0 64-bit",
   "language": "python",
   "name": "python3"
  },
  "language_info": {
   "codemirror_mode": {
    "name": "ipython",
    "version": 3
   },
   "file_extension": ".py",
   "mimetype": "text/x-python",
   "name": "python",
   "nbconvert_exporter": "python",
   "pygments_lexer": "ipython3",
   "version": "3.10.0"
  },
  "orig_nbformat": 4
 },
 "nbformat": 4,
 "nbformat_minor": 2
}
