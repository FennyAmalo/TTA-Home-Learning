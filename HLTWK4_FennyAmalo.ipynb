{
 "cells": [
  {
   "cell_type": "code",
   "execution_count": 111,
   "metadata": {},
   "outputs": [
    {
     "name": "stdout",
     "output_type": "stream",
     "text": [
      "[74 92]\n"
     ]
    }
   ],
   "source": [
    "# NumPy Extension 3 - Get all items between 3 and 7 from a and b and sum them together\n",
    "\n",
    "import numpy as np \n",
    "\n",
    "a = np.arange (3,7).reshape (2,2) \n",
    "b = np.arange (3,7).reshape (2,2) \n",
    "c = np.dot(a, b)\n",
    "e = np.sum(c,axis = 0)\n",
    "print(e)\n",
    "\n"
   ]
  },
  {
   "cell_type": "code",
   "execution_count": 107,
   "metadata": {},
   "outputs": [
    {
     "name": "stdout",
     "output_type": "stream",
     "text": [
      "[4, 5, 6, 7, 8, 9]\n"
     ]
    }
   ],
   "source": [
    "# Numpy Extension 2 - In two arrays a ( 1,2,3,4,5) and b ( 4,5,6,7,8,9) – remove all repeating items present in array b\n",
    "\n",
    "import numpy as np\n",
    "\n",
    "a = [1, 2, 3, 4, 5]\n",
    "b = [4, 5, 6, 7, 8, 9]\n",
    "np.concatenate((a, b), axis=0)\n",
    "np.unique(b)\n",
    "print(b)"
   ]
  },
  {
   "cell_type": "code",
   "execution_count": 61,
   "metadata": {},
   "outputs": [
    {
     "data": {
      "text/plain": [
       "array([[[0, 0, 0, 0],\n",
       "        [1, 1, 1, 1],\n",
       "        [2, 2, 2, 2],\n",
       "        [3, 3, 3, 3]],\n",
       "\n",
       "       [[0, 1, 2, 3],\n",
       "        [0, 1, 2, 3],\n",
       "        [0, 1, 2, 3],\n",
       "        [0, 1, 2, 3]]])"
      ]
     },
     "execution_count": 61,
     "metadata": {},
     "output_type": "execute_result"
    }
   ],
   "source": [
    "# This is a test for NumPy Extension 1 - NOT PART OF HOME-LEARNING TASKS\n",
    "\n",
    "import numpy as np\n",
    "np.indices((4,4)) # how to make it start from 1 instead of 0?\n"
   ]
  },
  {
   "cell_type": "code",
   "execution_count": 102,
   "metadata": {},
   "outputs": [
    {
     "name": "stdout",
     "output_type": "stream",
     "text": [
      "[[1. 1. 1.]]\n",
      "[[2 2 2]]\n",
      "[[3 3 3]]\n",
      "[[1 2 3]\n",
      " [1 2 3]\n",
      " [1 2 3]]\n"
     ]
    }
   ],
   "source": [
    "# NumPy Extension 1 - Create the following pattern without hardcoding. Use only NumPy functions.\n",
    "\n",
    "import numpy as np\n",
    "ones = np.ones((1,3))\n",
    "twos = np.full((1, 3), 2)\n",
    "threes = np.full((1, 3), 3)\n",
    "incr = np.full((3,3),(1,2,3))\n",
    "\n",
    "print(ones)\n",
    "print(twos)\n",
    "print(threes)\n",
    "print(incr)\n"
   ]
  },
  {
   "cell_type": "code",
   "execution_count": 50,
   "metadata": {},
   "outputs": [
    {
     "name": "stdout",
     "output_type": "stream",
     "text": [
      "[[1 2 3]\n",
      " [4 5 6]\n",
      " [7 8 9]]\n",
      "[[10 11 12]\n",
      " [13 14 15]\n",
      " [16 17 18]]\n",
      "[[ 84  90  96]\n",
      " [201 216 231]\n",
      " [318 342 366]]\n",
      "1944\n"
     ]
    }
   ],
   "source": [
    "#  NumPy Task6. Create two arrays a and b, stack these two arrays vertically use the np.dot and np.sum to calculate totals\n",
    "\n",
    "import numpy as np\n",
    "a = np.arange (1,10).reshape (3,3) \n",
    "b = np.arange (10,19).reshape (3,3) \n",
    "c = np.dot(a, b)\n",
    "sum = np.sum(c)\n",
    "print(a)\n",
    "print(b)\n",
    "print(c)\n",
    "print(sum)\n"
   ]
  },
  {
   "cell_type": "code",
   "execution_count": 34,
   "metadata": {},
   "outputs": [
    {
     "name": "stdout",
     "output_type": "stream",
     "text": [
      "[[ 1  2  3  4  5  6]\n",
      " [ 7  8  9 10 11 12]]\n"
     ]
    }
   ],
   "source": [
    "# NumPy Task 5. Convert a 1D array to a 2D array with 2 rows\n",
    "\n",
    "import numpy as np\n",
    "array = np.array([1, 2, 3, 4, 5, 6, 7, 8, 9, 10, 11, 12])\n",
    "newArray = array.reshape(2, 6) \n",
    "print(newArray)"
   ]
  },
  {
   "cell_type": "code",
   "execution_count": 41,
   "metadata": {},
   "outputs": [
    {
     "name": "stdout",
     "output_type": "stream",
     "text": [
      "[-1  2 -1  4 -1  6 -1  8 -1 10]\n"
     ]
    }
   ],
   "source": [
    "# NumPy Task 4. Replace all odd numbers in an array of 1-10 with the value -1\n",
    "\n",
    "import numpy as np\n",
    "array = np.array([1, 2, 3, 4, 5, 6, 7, 8, 9, 10])\n",
    "array_replace_odd = np.where(array%2 == 1, -1, array)\n",
    "print(array_replace_odd)\n",
    "   "
   ]
  },
  {
   "cell_type": "code",
   "execution_count": 38,
   "metadata": {},
   "outputs": [
    {
     "name": "stdout",
     "output_type": "stream",
     "text": [
      "[1 3 5 7 9]\n"
     ]
    }
   ],
   "source": [
    "# NumPy Task 3. Extract all odd numbers from array of 1-10\n",
    "\n",
    "import numpy as np\n",
    "array = np.arange(1, 10, 2) \n",
    "print(array)"
   ]
  },
  {
   "cell_type": "code",
   "execution_count": 90,
   "metadata": {},
   "outputs": [
    {
     "name": "stdout",
     "output_type": "stream",
     "text": [
      "[[ True  True  True]\n",
      " [ True  True  True]\n",
      " [ True  True  True]]\n"
     ]
    }
   ],
   "source": [
    "# NumPy Task 2. Create a 3×3 NumPy array of all Boolean value Trues - AN ALTERNATIVE\n",
    "\n",
    "import numpy as np\n",
    "\n",
    "bool_arr = np.array([3, 3, 3, 3, 3, 3, 3, 3, True], dtype=bool) # not sure if this is how to make it 3x3\n",
    "print(bool_arr.reshape(3, 3))\n",
    "\n"
   ]
  },
  {
   "cell_type": "code",
   "execution_count": 66,
   "metadata": {},
   "outputs": [
    {
     "name": "stdout",
     "output_type": "stream",
     "text": [
      "[[1 1 1]\n",
      " [1 1 1]\n",
      " [1 1 1]]\n"
     ]
    }
   ],
   "source": [
    "# NumPy Task 2. Create a 3×3 NumPy array of all Boolean value Trues\n",
    "\n",
    "import numpy as np\n",
    "array = np.array([1, 1, 1, 1, 1, 1, 1, 1, 1,])\n",
    "newArray = array.reshape(3, 3) \n",
    "print(newArray)"
   ]
  },
  {
   "cell_type": "code",
   "execution_count": 35,
   "metadata": {},
   "outputs": [
    {
     "name": "stdout",
     "output_type": "stream",
     "text": [
      "[0 1 2 3 4 5 6 7 8 9]\n"
     ]
    }
   ],
   "source": [
    "# NumPy Task 1. Create a 1D array of numbers from 0 to 9\n",
    "\n",
    "import numpy as np\n",
    "array = np.array([0, 1, 2, 3, 4, 5, 6, 7, 8, 9])\n",
    "print(array)"
   ]
  },
  {
   "cell_type": "code",
   "execution_count": 22,
   "metadata": {},
   "outputs": [
    {
     "name": "stdout",
     "output_type": "stream",
     "text": [
      "Don't be discouraged. Just keep working.\n",
      "Your grade was B and you wanted to achieve 80\n"
     ]
    }
   ],
   "source": [
    "# Task 2\n",
    "# this program asks a student for their percentage mark and convert it to a grade, using a function called 'mark_grade'\n",
    "\n",
    "def mark_grade(perc):\n",
    "    if perc >= 90:\n",
    "        return \"A+\"\n",
    "    elif perc >= 80 and perc < 90:\n",
    "        return \"A\"\n",
    "    elif perc >= 70 and perc < 80:\n",
    "        return \"B\"\n",
    "    elif perc >= 60 and perc < 70:\n",
    "        return \"C\"\n",
    "    elif perc >= 50 and perc < 60:\n",
    "        return \"D\"\n",
    "    else:\n",
    "        return \"F\"\n",
    "\n",
    "mark = int(input(\"What was your mark (in percentage)?\"))\n",
    "grade = mark_grade(mark)\n",
    "\n",
    "target = input(\"What grade did you want to achieve?\")\n",
    "\n",
    "if target == grade:\n",
    "    print(\"Well done! You've achieved your target grade.\")\n",
    "    print(\"Your grade was\", grade, \"and you wanted to achieve\", target)\n",
    "elif target == \"A+\" and grade == \"A\":\n",
    "    print(\"You were close!\")\n",
    "    print(\"Your grade was\", grade, \"and you wanted to achieve\", target)\n",
    "elif target == \"A\" and grade == \"A+\":\n",
    "    print(\"Congrats! You received a grade higher than your aim.\")\n",
    "    print(\"Your grade was\", grade, \"and you wanted to achieve\", target)\n",
    "elif target < grade:\n",
    "    print(\"Don't be discouraged. Just keep working.\")\n",
    "    print(\"Your grade was\", grade, \"and you wanted to achieve\", target)\n",
    "else:\n",
    "    print(\"Congrats! You received a grade higher than your aim.\")\n",
    "    print(\"Your grade was\", grade, \"and you wanted to achieve\", target)\n",
    "\n"
   ]
  },
  {
   "cell_type": "code",
   "execution_count": 44,
   "metadata": {},
   "outputs": [],
   "source": [
    "# Task 1\n",
    "# this program allows users to enter 4 numbers and stores them in a file called “Numbers”\n",
    "\n",
    "# to write into the file:\n",
    "\n",
    "my_file = open(\"Numbers.txt\", \"w\")\n",
    "my_file.write(str(\"Please enter the first number:\"))\n",
    "my_file.write(\"\\n\")\n",
    "my_file.write(str(\"Please enter the second number:\"))\n",
    "my_file.write(\"\\n\")\n",
    "my_file.write(str(\"Please enter the third number:\"))\n",
    "my_file.write(\"\\n\")\n",
    "my_file.write(str(\"Please enter the fourth number:\"))\n",
    "my_file.write(\"\\n\")\n",
    "my_file.close()\n",
    "\n",
    "\n",
    "# to append to the file:\n",
    "\n",
    "my_file = open(\"Numbers.txt\", \"a\")\n",
    "my_file.write(str(\"I want to append here.\"))\n",
    "my_file.close()\n",
    "\n",
    "\n",
    "# to read into the file:\n",
    "\n",
    "with open(\"Numbers.txt\", \"r\") as my_file:\n",
    "    data = my_file.read().replace('\\n', ',')\n",
    "my_file.close()\n",
    "\n",
    "\n"
   ]
  }
 ],
 "metadata": {
  "interpreter": {
   "hash": "5219c58fabb978ac2d87fce4f0feb3419f08f46dcb52c6c3f448b53361455391"
  },
  "kernelspec": {
   "display_name": "Python 3.10.0 64-bit",
   "language": "python",
   "name": "python3"
  },
  "language_info": {
   "codemirror_mode": {
    "name": "ipython",
    "version": 3
   },
   "file_extension": ".py",
   "mimetype": "text/x-python",
   "name": "python",
   "nbconvert_exporter": "python",
   "pygments_lexer": "ipython3",
   "version": "3.10.0"
  },
  "orig_nbformat": 4
 },
 "nbformat": 4,
 "nbformat_minor": 2
}
