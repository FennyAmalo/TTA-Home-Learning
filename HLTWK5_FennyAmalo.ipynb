{
 "cells": [
  {
   "cell_type": "code",
   "execution_count": 38,
   "metadata": {},
   "outputs": [
    {
     "ename": "SyntaxError",
     "evalue": "invalid syntax. Perhaps you forgot a comma? (Temp/ipykernel_8576/3341140253.py, line 5)",
     "output_type": "error",
     "traceback": [
      "\u001b[1;36m  File \u001b[1;32m\"C:\\Users\\f4r1c\\AppData\\Local\\Temp/ipykernel_8576/3341140253.py\"\u001b[1;36m, line \u001b[1;32m5\u001b[0m\n\u001b[1;33m    pip install -U scikit-learn\u001b[0m\n\u001b[1;37m                ^\u001b[0m\n\u001b[1;31mSyntaxError\u001b[0m\u001b[1;31m:\u001b[0m invalid syntax. Perhaps you forgot a comma?\n"
     ]
    }
   ],
   "source": [
    "# Extension Task 2 - Create a data visualisation diagram to show destination and highest scores.\n",
    "# sklearn won't install - error code. Tried multiple times on different days/time, went to Stack Overflow to ask, tried the solutions offered but still unsuccessful\n",
    "# so I could not complete extension tasks. \n",
    "\n",
    "pip install -U scikit-learn"
   ]
  },
  {
   "cell_type": "code",
   "execution_count": 37,
   "metadata": {},
   "outputs": [
    {
     "ename": "SyntaxError",
     "evalue": "invalid syntax. Perhaps you forgot a comma? (Temp/ipykernel_8576/1746148824.py, line 3)",
     "output_type": "error",
     "traceback": [
      "\u001b[1;36m  File \u001b[1;32m\"C:\\Users\\f4r1c\\AppData\\Local\\Temp/ipykernel_8576/1746148824.py\"\u001b[1;36m, line \u001b[1;32m3\u001b[0m\n\u001b[1;33m    pip install sklearn\u001b[0m\n\u001b[1;37m        ^\u001b[0m\n\u001b[1;31mSyntaxError\u001b[0m\u001b[1;31m:\u001b[0m invalid syntax. Perhaps you forgot a comma?\n"
     ]
    }
   ],
   "source": [
    "# Extention Task 1 - Is there a correlation between number of all-inclusive hotels and score?\n",
    "\n",
    "\n",
    "from sklearn.datasets import load_iris\n",
    "destinationsdata = load_iris()\n",
    "df = pd.DataFrame(data['destinationsdata'], column = data['feature_names'])\n",
    "df['No of hotels'] = data['Score']\n",
    "df.head()\n"
   ]
  },
  {
   "cell_type": "code",
   "execution_count": 33,
   "metadata": {},
   "outputs": [
    {
     "data": {
      "text/html": [
       "<div>\n",
       "<style scoped>\n",
       "    .dataframe tbody tr th:only-of-type {\n",
       "        vertical-align: middle;\n",
       "    }\n",
       "\n",
       "    .dataframe tbody tr th {\n",
       "        vertical-align: top;\n",
       "    }\n",
       "\n",
       "    .dataframe thead th {\n",
       "        text-align: right;\n",
       "    }\n",
       "</style>\n",
       "<table border=\"1\" class=\"dataframe\">\n",
       "  <thead>\n",
       "    <tr style=\"text-align: right;\">\n",
       "      <th></th>\n",
       "      <th>Destination</th>\n",
       "      <th>Score</th>\n",
       "      <th>Avg hotel stars</th>\n",
       "      <th>No of hotels</th>\n",
       "      <th>Most-visited city</th>\n",
       "    </tr>\n",
       "  </thead>\n",
       "  <tbody>\n",
       "  </tbody>\n",
       "</table>\n",
       "</div>"
      ],
      "text/plain": [
       "Empty DataFrame\n",
       "Columns: [Destination, Score, Avg hotel stars, No of hotels, Most-visited city]\n",
       "Index: []"
      ]
     },
     "execution_count": 33,
     "metadata": {},
     "output_type": "execute_result"
    }
   ],
   "source": [
    "# Task  8 - Filter the data score below 2 ( I need to know if these destinations should be removed or there is a problem)\n",
    "\n",
    "destinationsdata = pd.read_csv(\"destinations.csv\")\n",
    "myfilter = destinationsdata[\"Score\"] < 2\n",
    "allinc_hotels = destinationsdata[myfilter]\n",
    "allinc_hotels"
   ]
  },
  {
   "cell_type": "code",
   "execution_count": 30,
   "metadata": {},
   "outputs": [
    {
     "data": {
      "text/html": [
       "<div>\n",
       "<style scoped>\n",
       "    .dataframe tbody tr th:only-of-type {\n",
       "        vertical-align: middle;\n",
       "    }\n",
       "\n",
       "    .dataframe tbody tr th {\n",
       "        vertical-align: top;\n",
       "    }\n",
       "\n",
       "    .dataframe thead th {\n",
       "        text-align: right;\n",
       "    }\n",
       "</style>\n",
       "<table border=\"1\" class=\"dataframe\">\n",
       "  <thead>\n",
       "    <tr style=\"text-align: right;\">\n",
       "      <th></th>\n",
       "      <th>Destination</th>\n",
       "      <th>Score</th>\n",
       "      <th>Avg hotel stars</th>\n",
       "      <th>No of hotels</th>\n",
       "      <th>Most-visited city</th>\n",
       "    </tr>\n",
       "  </thead>\n",
       "  <tbody>\n",
       "    <tr>\n",
       "      <th>0</th>\n",
       "      <td>Spain</td>\n",
       "      <td>9</td>\n",
       "      <td>4</td>\n",
       "      <td>300</td>\n",
       "      <td>Barcelona</td>\n",
       "    </tr>\n",
       "    <tr>\n",
       "      <th>6</th>\n",
       "      <td>United States of America</td>\n",
       "      <td>9</td>\n",
       "      <td>4</td>\n",
       "      <td>1000</td>\n",
       "      <td>Los Angeles</td>\n",
       "    </tr>\n",
       "    <tr>\n",
       "      <th>9</th>\n",
       "      <td>Norway</td>\n",
       "      <td>10</td>\n",
       "      <td>4</td>\n",
       "      <td>140</td>\n",
       "      <td>Oslo</td>\n",
       "    </tr>\n",
       "    <tr>\n",
       "      <th>10</th>\n",
       "      <td>Indonesia</td>\n",
       "      <td>10</td>\n",
       "      <td>3</td>\n",
       "      <td>1500</td>\n",
       "      <td>Jakarta</td>\n",
       "    </tr>\n",
       "    <tr>\n",
       "      <th>11</th>\n",
       "      <td>Thailand</td>\n",
       "      <td>9</td>\n",
       "      <td>3</td>\n",
       "      <td>1400</td>\n",
       "      <td>Phuket</td>\n",
       "    </tr>\n",
       "  </tbody>\n",
       "</table>\n",
       "</div>"
      ],
      "text/plain": [
       "                 Destination  Score  Avg hotel stars  No of hotels  \\\n",
       "0                      Spain      9                4           300   \n",
       "6   United States of America      9                4          1000   \n",
       "9                     Norway     10                4           140   \n",
       "10                 Indonesia     10                3          1500   \n",
       "11                  Thailand      9                3          1400   \n",
       "\n",
       "   Most-visited city  \n",
       "0          Barcelona  \n",
       "6        Los Angeles  \n",
       "9               Oslo  \n",
       "10           Jakarta  \n",
       "11            Phuket  "
      ]
     },
     "execution_count": 30,
     "metadata": {},
     "output_type": "execute_result"
    }
   ],
   "source": [
    "# Task 7 - Filter the data by score above 8\n",
    "\n",
    "destinationsdata = pd.read_csv(\"destinations.csv\")\n",
    "myfilter = destinationsdata[\"Score\"] > 8\n",
    "allinc_hotels = destinationsdata[myfilter]\n",
    "allinc_hotels"
   ]
  },
  {
   "cell_type": "code",
   "execution_count": 31,
   "metadata": {},
   "outputs": [
    {
     "data": {
      "text/html": [
       "<div>\n",
       "<style scoped>\n",
       "    .dataframe tbody tr th:only-of-type {\n",
       "        vertical-align: middle;\n",
       "    }\n",
       "\n",
       "    .dataframe tbody tr th {\n",
       "        vertical-align: top;\n",
       "    }\n",
       "\n",
       "    .dataframe thead th {\n",
       "        text-align: right;\n",
       "    }\n",
       "</style>\n",
       "<table border=\"1\" class=\"dataframe\">\n",
       "  <thead>\n",
       "    <tr style=\"text-align: right;\">\n",
       "      <th></th>\n",
       "      <th>Destination</th>\n",
       "      <th>Score</th>\n",
       "      <th>Avg hotel stars</th>\n",
       "      <th>No of hotels</th>\n",
       "      <th>Most-visited city</th>\n",
       "    </tr>\n",
       "  </thead>\n",
       "  <tbody>\n",
       "    <tr>\n",
       "      <th>0</th>\n",
       "      <td>Spain</td>\n",
       "      <td>9</td>\n",
       "      <td>4</td>\n",
       "      <td>300</td>\n",
       "      <td>Barcelona</td>\n",
       "    </tr>\n",
       "    <tr>\n",
       "      <th>1</th>\n",
       "      <td>United Kingdom</td>\n",
       "      <td>6</td>\n",
       "      <td>4</td>\n",
       "      <td>450</td>\n",
       "      <td>London</td>\n",
       "    </tr>\n",
       "    <tr>\n",
       "      <th>2</th>\n",
       "      <td>Italy</td>\n",
       "      <td>8</td>\n",
       "      <td>3</td>\n",
       "      <td>600</td>\n",
       "      <td>Rome</td>\n",
       "    </tr>\n",
       "    <tr>\n",
       "      <th>3</th>\n",
       "      <td>France</td>\n",
       "      <td>7</td>\n",
       "      <td>4</td>\n",
       "      <td>700</td>\n",
       "      <td>Paris</td>\n",
       "    </tr>\n",
       "    <tr>\n",
       "      <th>4</th>\n",
       "      <td>Denmark</td>\n",
       "      <td>6</td>\n",
       "      <td>3</td>\n",
       "      <td>230</td>\n",
       "      <td>Copenhagen</td>\n",
       "    </tr>\n",
       "    <tr>\n",
       "      <th>5</th>\n",
       "      <td>Netherlands</td>\n",
       "      <td>7</td>\n",
       "      <td>4</td>\n",
       "      <td>200</td>\n",
       "      <td>Amsterdam</td>\n",
       "    </tr>\n",
       "    <tr>\n",
       "      <th>6</th>\n",
       "      <td>United States of America</td>\n",
       "      <td>9</td>\n",
       "      <td>4</td>\n",
       "      <td>1000</td>\n",
       "      <td>Los Angeles</td>\n",
       "    </tr>\n",
       "    <tr>\n",
       "      <th>7</th>\n",
       "      <td>Sweden</td>\n",
       "      <td>8</td>\n",
       "      <td>3</td>\n",
       "      <td>300</td>\n",
       "      <td>Stockholm</td>\n",
       "    </tr>\n",
       "    <tr>\n",
       "      <th>8</th>\n",
       "      <td>Finland</td>\n",
       "      <td>7</td>\n",
       "      <td>3</td>\n",
       "      <td>210</td>\n",
       "      <td>Helsinki</td>\n",
       "    </tr>\n",
       "    <tr>\n",
       "      <th>9</th>\n",
       "      <td>Norway</td>\n",
       "      <td>10</td>\n",
       "      <td>4</td>\n",
       "      <td>140</td>\n",
       "      <td>Oslo</td>\n",
       "    </tr>\n",
       "    <tr>\n",
       "      <th>10</th>\n",
       "      <td>Indonesia</td>\n",
       "      <td>10</td>\n",
       "      <td>3</td>\n",
       "      <td>1500</td>\n",
       "      <td>Jakarta</td>\n",
       "    </tr>\n",
       "    <tr>\n",
       "      <th>11</th>\n",
       "      <td>Thailand</td>\n",
       "      <td>9</td>\n",
       "      <td>3</td>\n",
       "      <td>1400</td>\n",
       "      <td>Phuket</td>\n",
       "    </tr>\n",
       "    <tr>\n",
       "      <th>12</th>\n",
       "      <td>Phillipines</td>\n",
       "      <td>8</td>\n",
       "      <td>4</td>\n",
       "      <td>1300</td>\n",
       "      <td>Manila</td>\n",
       "    </tr>\n",
       "    <tr>\n",
       "      <th>13</th>\n",
       "      <td>Singapore</td>\n",
       "      <td>8</td>\n",
       "      <td>5</td>\n",
       "      <td>210</td>\n",
       "      <td>Singapore</td>\n",
       "    </tr>\n",
       "  </tbody>\n",
       "</table>\n",
       "</div>"
      ],
      "text/plain": [
       "                 Destination  Score  Avg hotel stars  No of hotels  \\\n",
       "0                      Spain      9                4           300   \n",
       "1             United Kingdom      6                4           450   \n",
       "2                      Italy      8                3           600   \n",
       "3                     France      7                4           700   \n",
       "4                    Denmark      6                3           230   \n",
       "5                Netherlands      7                4           200   \n",
       "6   United States of America      9                4          1000   \n",
       "7                     Sweden      8                3           300   \n",
       "8                    Finland      7                3           210   \n",
       "9                     Norway     10                4           140   \n",
       "10                 Indonesia     10                3          1500   \n",
       "11                  Thailand      9                3          1400   \n",
       "12               Phillipines      8                4          1300   \n",
       "13                 Singapore      8                5           210   \n",
       "\n",
       "   Most-visited city  \n",
       "0          Barcelona  \n",
       "1             London  \n",
       "2               Rome  \n",
       "3              Paris  \n",
       "4         Copenhagen  \n",
       "5          Amsterdam  \n",
       "6        Los Angeles  \n",
       "7          Stockholm  \n",
       "8           Helsinki  \n",
       "9               Oslo  \n",
       "10           Jakarta  \n",
       "11            Phuket  \n",
       "12            Manila  \n",
       "13         Singapore  "
      ]
     },
     "execution_count": 31,
     "metadata": {},
     "output_type": "execute_result"
    }
   ],
   "source": [
    "# Task 6 - Find all the destinations where there are more than 9 all-inclusive hotels\n",
    "\n",
    "destinationsdata = pd.read_csv(\"destinations.csv\")\n",
    "myfilter = destinationsdata[\"No of hotels\"] > 9\n",
    "allinc_hotels = destinationsdata[myfilter]\n",
    "allinc_hotels\n"
   ]
  },
  {
   "cell_type": "code",
   "execution_count": 25,
   "metadata": {},
   "outputs": [
    {
     "data": {
      "text/html": [
       "<div>\n",
       "<style scoped>\n",
       "    .dataframe tbody tr th:only-of-type {\n",
       "        vertical-align: middle;\n",
       "    }\n",
       "\n",
       "    .dataframe tbody tr th {\n",
       "        vertical-align: top;\n",
       "    }\n",
       "\n",
       "    .dataframe thead th {\n",
       "        text-align: right;\n",
       "    }\n",
       "</style>\n",
       "<table border=\"1\" class=\"dataframe\">\n",
       "  <thead>\n",
       "    <tr style=\"text-align: right;\">\n",
       "      <th></th>\n",
       "      <th>Destination</th>\n",
       "      <th>Score</th>\n",
       "      <th>Avg hotel stars</th>\n",
       "      <th>No of hotels</th>\n",
       "      <th>Most-visited city</th>\n",
       "    </tr>\n",
       "  </thead>\n",
       "  <tbody>\n",
       "    <tr>\n",
       "      <th>9</th>\n",
       "      <td>Norway</td>\n",
       "      <td>10</td>\n",
       "      <td>4</td>\n",
       "      <td>140</td>\n",
       "      <td>Oslo</td>\n",
       "    </tr>\n",
       "  </tbody>\n",
       "</table>\n",
       "</div>"
      ],
      "text/plain": [
       "  Destination  Score  Avg hotel stars  No of hotels Most-visited city\n",
       "9      Norway     10                4           140              Oslo"
      ]
     },
     "execution_count": 25,
     "metadata": {},
     "output_type": "execute_result"
    }
   ],
   "source": [
    "# Task 5 - Find the highest scoring destination\n",
    "\n",
    "destinationsdata = pd.read_csv(\"destinations.csv\")\n",
    "\n",
    "destinationsdata.nlargest(1, \"Score\", keep='first')"
   ]
  },
  {
   "cell_type": "code",
   "execution_count": 23,
   "metadata": {},
   "outputs": [
    {
     "data": {
      "text/html": [
       "<div>\n",
       "<style scoped>\n",
       "    .dataframe tbody tr th:only-of-type {\n",
       "        vertical-align: middle;\n",
       "    }\n",
       "\n",
       "    .dataframe tbody tr th {\n",
       "        vertical-align: top;\n",
       "    }\n",
       "\n",
       "    .dataframe thead th {\n",
       "        text-align: right;\n",
       "    }\n",
       "</style>\n",
       "<table border=\"1\" class=\"dataframe\">\n",
       "  <thead>\n",
       "    <tr style=\"text-align: right;\">\n",
       "      <th></th>\n",
       "      <th>Destination</th>\n",
       "      <th>Score</th>\n",
       "      <th>Avg hotel stars</th>\n",
       "      <th>No of hotels</th>\n",
       "      <th>Most-visited city</th>\n",
       "    </tr>\n",
       "  </thead>\n",
       "  <tbody>\n",
       "    <tr>\n",
       "      <th>1</th>\n",
       "      <td>United Kingdom</td>\n",
       "      <td>6</td>\n",
       "      <td>4</td>\n",
       "      <td>450</td>\n",
       "      <td>London</td>\n",
       "    </tr>\n",
       "  </tbody>\n",
       "</table>\n",
       "</div>"
      ],
      "text/plain": [
       "      Destination  Score  Avg hotel stars  No of hotels Most-visited city\n",
       "1  United Kingdom      6                4           450            London"
      ]
     },
     "execution_count": 23,
     "metadata": {},
     "output_type": "execute_result"
    }
   ],
   "source": [
    "# Task 4 - Find the lowest scoring destination\n",
    "\n",
    "destinationsdata = pd.read_csv(\"destinations.csv\")\n",
    "\n",
    "destinationsdata.nsmallest(1, \"Score\", keep='first')\n"
   ]
  },
  {
   "cell_type": "code",
   "execution_count": 21,
   "metadata": {},
   "outputs": [
    {
     "data": {
      "text/plain": [
       "610.0"
      ]
     },
     "execution_count": 21,
     "metadata": {},
     "output_type": "execute_result"
    }
   ],
   "source": [
    "# Task 3 - Find the mean number of all-inclusive hotels across all destinations\n",
    "\n",
    "destinationsdata = pd.read_csv(\"destinations.csv\")\n",
    "destinationsdata[\"No of hotels\"].mean()\n",
    "\n",
    "\n"
   ]
  },
  {
   "cell_type": "code",
   "execution_count": 18,
   "metadata": {},
   "outputs": [
    {
     "name": "stdout",
     "output_type": "stream",
     "text": [
      "                          Score  Avg hotel stars  No of hotels  \\\n",
      "Destination                                                      \n",
      "Italy                         8                3           600   \n",
      "France                        7                4           700   \n",
      "Denmark                       6                3           230   \n",
      "Netherlands                   7                4           200   \n",
      "United States of America      9                4          1000   \n",
      "Sweden                        8                3           300   \n",
      "Finland                       7                3           210   \n",
      "\n",
      "                         Most-visited city  \n",
      "Destination                                 \n",
      "Italy                                 Rome  \n",
      "France                               Paris  \n",
      "Denmark                         Copenhagen  \n",
      "Netherlands                      Amsterdam  \n",
      "United States of America       Los Angeles  \n",
      "Sweden                           Stockholm  \n",
      "Finland                           Helsinki  \n"
     ]
    }
   ],
   "source": [
    "# Task 2b - Print row 3-8 (using loc)\n",
    "\n",
    "import pandas as pd\n",
    "destinationsdata = pd.read_csv(\"destinations.csv\", index_col = \"Destination\")\n",
    "print(destinationsdata.loc[[\"Italy\", \"France\", \"Denmark\", \"Netherlands\", \"United States of America\", \"Sweden\", \"Finland\"]])"
   ]
  },
  {
   "cell_type": "code",
   "execution_count": 11,
   "metadata": {},
   "outputs": [
    {
     "name": "stdout",
     "output_type": "stream",
     "text": [
      "                Destination  Score  Avg hotel stars  No of hotels  \\\n",
      "2                     Italy      8                3           600   \n",
      "3                    France      7                4           700   \n",
      "4                   Denmark      6                3           230   \n",
      "5               Netherlands      7                4           200   \n",
      "6  United States of America      9                4          1000   \n",
      "7                    Sweden      8                3           300   \n",
      "8                   Finland      7                3           210   \n",
      "\n",
      "  Most-visited city  \n",
      "2              Rome  \n",
      "3             Paris  \n",
      "4        Copenhagen  \n",
      "5         Amsterdam  \n",
      "6       Los Angeles  \n",
      "7         Stockholm  \n",
      "8          Helsinki  \n"
     ]
    }
   ],
   "source": [
    "# Task 2a - Print row 3-8 ( using iloc)\n",
    "\n",
    "import pandas as pd\n",
    "destinationsdata = pd.read_csv(\"destinations.csv\")\n",
    "print(destinationsdata.iloc[2:9])\n",
    "\n",
    "\n"
   ]
  },
  {
   "cell_type": "code",
   "execution_count": 4,
   "metadata": {},
   "outputs": [
    {
     "name": "stdout",
     "output_type": "stream",
     "text": [
      "                 Destination  Score  Avg hotel stars  No of hotels  \\\n",
      "0                      Spain      9                4           300   \n",
      "1             United Kingdom      6                4           450   \n",
      "2                      Italy      8                3           600   \n",
      "3                     France      7                4           700   \n",
      "4                    Denmark      6                3           230   \n",
      "5                Netherlands      7                4           200   \n",
      "6   United States of America      9                4          1000   \n",
      "7                     Sweden      8                3           300   \n",
      "8                    Finland      7                3           210   \n",
      "9                     Norway     10                4           140   \n",
      "10                 Indonesia     10                3          1500   \n",
      "11                  Thailand      9                3          1400   \n",
      "12               Phillipines      8                4          1300   \n",
      "13                 Singapore      8                5           210   \n",
      "\n",
      "   Most-visited city  \n",
      "0          Barcelona  \n",
      "1             London  \n",
      "2               Rome  \n",
      "3              Paris  \n",
      "4         Copenhagen  \n",
      "5          Amsterdam  \n",
      "6        Los Angeles  \n",
      "7          Stockholm  \n",
      "8           Helsinki  \n",
      "9               Oslo  \n",
      "10           Jakarta  \n",
      "11            Phuket  \n",
      "12            Manila  \n",
      "13         Singapore  \n"
     ]
    }
   ],
   "source": [
    "\n",
    "# Task 1 - how many rows and columns in your file?\n",
    "# I print the file in order to find out\n",
    "\n",
    "import pandas as pd\n",
    "destinationsdata = pd.read_csv(\"destinations.csv\")\n",
    "print(destinationsdata)"
   ]
  }
 ],
 "metadata": {
  "interpreter": {
   "hash": "5219c58fabb978ac2d87fce4f0feb3419f08f46dcb52c6c3f448b53361455391"
  },
  "kernelspec": {
   "display_name": "Python 3.10.0 64-bit",
   "language": "python",
   "name": "python3"
  },
  "language_info": {
   "codemirror_mode": {
    "name": "ipython",
    "version": 3
   },
   "file_extension": ".py",
   "mimetype": "text/x-python",
   "name": "python",
   "nbconvert_exporter": "python",
   "pygments_lexer": "ipython3",
   "version": "3.10.0"
  },
  "orig_nbformat": 4
 },
 "nbformat": 4,
 "nbformat_minor": 2
}
